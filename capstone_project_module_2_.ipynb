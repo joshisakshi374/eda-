{
  "nbformat": 4,
  "nbformat_minor": 0,
  "metadata": {
    "colab": {
      "private_outputs": true,
      "provenance": [],
      "collapsed_sections": [
        "w6K7xa23Elo4",
        "mDgbUHAGgjLW",
        "gIfDvo9L0UH2"
      ],
      "include_colab_link": true
    },
    "kernelspec": {
      "name": "python3",
      "display_name": "Python 3"
    },
    "language_info": {
      "name": "python"
    }
  },
  "cells": [
    {
      "cell_type": "markdown",
      "metadata": {
        "id": "view-in-github",
        "colab_type": "text"
      },
      "source": [
        "<a href=\"https://colab.research.google.com/github/joshisakshi374/eda-/blob/main/capstone_project_module_2_.ipynb\" target=\"_parent\"><img src=\"https://colab.research.google.com/assets/colab-badge.svg\" alt=\"Open In Colab\"/></a>"
      ]
    },
    {
      "cell_type": "code",
      "source": [],
      "metadata": {
        "id": "I1apcow5dxii"
      },
      "execution_count": null,
      "outputs": []
    },
    {
      "cell_type": "markdown",
      "source": [
        "# **Paisabazaar Banking Fraud Analysis**    -\n",
        "\n"
      ],
      "metadata": {
        "id": "vncDsAP0Gaoa"
      }
    },
    {
      "cell_type": "markdown",
      "source": [
        "##### **Project Type**    - Exploratory Data Analysis\n",
        "##### **Contribution**    - Sakshi joshi\n"
      ],
      "metadata": {
        "id": "beRrZCGUAJYm"
      }
    },
    {
      "cell_type": "markdown",
      "source": [
        "# **Project Summary -**"
      ],
      "metadata": {
        "id": "FJNUwmbgGyua"
      }
    },
    {
      "cell_type": "markdown",
      "source": [
        "This report presents an exploratory data analysis (EDA) project conducted for Paisabazaar to understand the factors influencing customer credit scores. The aim is to uncover meaningful insights from customer financial behavior to improve creditworthiness evaluation, optimize product recommendations, and minimize default risks."
      ],
      "metadata": {
        "id": "F6v_1wHtG2nS"
      }
    },
    {
      "cell_type": "markdown",
      "source": [
        "# **GitHub Link -**"
      ],
      "metadata": {
        "id": "w6K7xa23Elo4"
      }
    },
    {
      "cell_type": "markdown",
      "source": [
        "Provide your GitHub Link here."
      ],
      "metadata": {
        "id": "h1o69JH3Eqqn"
      }
    },
    {
      "cell_type": "markdown",
      "source": [
        "# **Problem Statement**\n"
      ],
      "metadata": {
        "id": "yQaldy8SH6Dl"
      }
    },
    {
      "cell_type": "markdown",
      "source": [
        "\"To analyze and build an exploratory data analysis (EDA) framework for understanding the key factors that influence a customer's credit score using customer data provided by Paisabazaar. The goal is to extract insights that can help predict creditworthiness and improve decision-making for financial services.\""
      ],
      "metadata": {
        "id": "DpeJGUA3kjGy"
      }
    },
    {
      "cell_type": "markdown",
      "source": [
        "#### **Define Your Business Objective?**"
      ],
      "metadata": {
        "id": "PH-0ReGfmX4f"
      }
    },
    {
      "cell_type": "markdown",
      "source": [
        "To enable Paisabazaar to make data-driven, accurate, and efficient decisions in evaluating customer creditworthiness by uncovering key patterns and insights from customer financial data.\n",
        "\n",
        "**Key Goals:**\n",
        "\n",
        "Enhance credit risk assessment\n",
        "\n",
        "Improve matching of customers to suitable financial products\n",
        "\n",
        "Support personalized credit-related recommendations\n",
        "\n",
        "Lay foundation for predictive credit score modeling\n",
        "\n",
        "Inform internal decision-making processes"
      ],
      "metadata": {
        "id": "PhDvGCAqmjP1"
      }
    },
    {
      "cell_type": "markdown",
      "source": [
        "# **General Guidelines** : -  "
      ],
      "metadata": {
        "id": "mDgbUHAGgjLW"
      }
    },
    {
      "cell_type": "markdown",
      "source": [
        "1.   Well-structured, formatted, and commented code is required.\n",
        "2.   Exception Handling, Production Grade Code & Deployment Ready Code will be a plus. Those students will be awarded some additional credits.\n",
        "     \n",
        "     The additional credits will have advantages over other students during Star Student selection.\n",
        "       \n",
        "             [ Note: - Deployment Ready Code is defined as, the whole .ipynb notebook should be executable in one go\n",
        "                       without a single error logged. ]\n",
        "\n",
        "3.   Each and every logic should have proper comments.\n",
        "4. You may add as many number of charts you want. Make Sure for each and every chart the following format should be answered.\n",
        "        \n",
        "\n",
        "```\n",
        "# Chart visualization code\n",
        "```\n",
        "            \n",
        "\n",
        "*   Why did you pick the specific chart?\n",
        "*   What is/are the insight(s) found from the chart?\n",
        "* Will the gained insights help creating a positive business impact?\n",
        "Are there any insights that lead to negative growth? Justify with specific reason.\n",
        "\n",
        "5. You have to create at least 20 logical & meaningful charts having important insights.\n",
        "\n",
        "\n",
        "[ Hints : - Do the Vizualization in  a structured way while following \"UBM\" Rule.\n",
        "\n",
        "U - Univariate Analysis,\n",
        "\n",
        "B - Bivariate Analysis (Numerical - Categorical, Numerical - Numerical, Categorical - Categorical)\n",
        "\n",
        "M - Multivariate Analysis\n",
        " ]\n",
        "\n",
        "\n",
        "\n"
      ],
      "metadata": {
        "id": "ZrxVaUj-hHfC"
      }
    },
    {
      "cell_type": "markdown",
      "source": [
        "# ***Let's Begin !***"
      ],
      "metadata": {
        "id": "O_i_v8NEhb9l"
      }
    },
    {
      "cell_type": "markdown",
      "source": [
        "## ***1. Know Your Data***"
      ],
      "metadata": {
        "id": "HhfV-JJviCcP"
      }
    },
    {
      "cell_type": "markdown",
      "source": [
        "### Import Libraries"
      ],
      "metadata": {
        "id": "Y3lxredqlCYt"
      }
    },
    {
      "cell_type": "code",
      "source": [
        "# Import Libraries\n",
        "import pandas as pd\n",
        "import numpy as np\n",
        "import matplotlib.pyplot as plt\n",
        "import seaborn as sns\n",
        "from google.colab import files"
      ],
      "metadata": {
        "id": "M8Vqi-pPk-HR"
      },
      "execution_count": null,
      "outputs": []
    },
    {
      "cell_type": "markdown",
      "source": [
        "### Dataset Loading"
      ],
      "metadata": {
        "id": "3RnN4peoiCZX"
      }
    },
    {
      "cell_type": "code",
      "source": [
        "uploaded = files.upload()"
      ],
      "metadata": {
        "id": "mWDTl66B3KL7"
      },
      "execution_count": null,
      "outputs": []
    },
    {
      "cell_type": "code",
      "source": [
        "# Load Dataset\n",
        "df = pd.read_csv('dataset.csv')"
      ],
      "metadata": {
        "id": "4CkvbW_SlZ_R"
      },
      "execution_count": null,
      "outputs": []
    },
    {
      "cell_type": "markdown",
      "source": [
        "### Dataset First View"
      ],
      "metadata": {
        "id": "x71ZqKXriCWQ"
      }
    },
    {
      "cell_type": "code",
      "source": [
        "# Dataset First Look\n",
        "df.head()"
      ],
      "metadata": {
        "id": "LWNFOSvLl09H"
      },
      "execution_count": null,
      "outputs": []
    },
    {
      "cell_type": "markdown",
      "source": [
        "### Dataset Rows & Columns count"
      ],
      "metadata": {
        "id": "7hBIi_osiCS2"
      }
    },
    {
      "cell_type": "code",
      "source": [
        "# Dataset Rows & Columns count\n",
        "rows, columns = df.shape\n",
        "print(f\"Number of rows: {rows}\")\n",
        "print(f\"Number of columns: {columns}\")"
      ],
      "metadata": {
        "id": "Kllu7SJgmLij"
      },
      "execution_count": null,
      "outputs": []
    },
    {
      "cell_type": "markdown",
      "source": [
        "### Dataset Information"
      ],
      "metadata": {
        "id": "JlHwYmJAmNHm"
      }
    },
    {
      "cell_type": "code",
      "source": [
        "# Dataset Info\n",
        "df.info()"
      ],
      "metadata": {
        "id": "e9hRXRi6meOf"
      },
      "execution_count": null,
      "outputs": []
    },
    {
      "cell_type": "markdown",
      "source": [
        "#### Duplicate Values"
      ],
      "metadata": {
        "id": "35m5QtbWiB9F"
      }
    },
    {
      "cell_type": "code",
      "source": [
        "# Dataset Duplicate Value Count\n",
        "df.duplicated().sum()"
      ],
      "metadata": {
        "id": "1sLdpKYkmox0"
      },
      "execution_count": null,
      "outputs": []
    },
    {
      "cell_type": "markdown",
      "source": [
        "#### Missing Values/Null Values"
      ],
      "metadata": {
        "id": "PoPl-ycgm1ru"
      }
    },
    {
      "cell_type": "code",
      "source": [
        "# Missing Values/Null Values Count\n",
        "df.isnull().sum()"
      ],
      "metadata": {
        "id": "GgHWkxvamxVg"
      },
      "execution_count": null,
      "outputs": []
    },
    {
      "cell_type": "code",
      "source": [
        "# Visualizing the missing values\n",
        "import missingno as msno\n",
        "msno.bar(df)\n",
        "plt.show()"
      ],
      "metadata": {
        "id": "3q5wnI3om9sJ"
      },
      "execution_count": null,
      "outputs": []
    },
    {
      "cell_type": "markdown",
      "source": [
        "### What did you know about your dataset?"
      ],
      "metadata": {
        "id": "H0kj-8xxnORC"
      }
    },
    {
      "cell_type": "markdown",
      "source": [
        "The dataset provided by Paisabazaar contains a comprehensive set of customer features including:\n",
        "\n",
        "Demographics (Age, Occupation)\n",
        "\n",
        "Financial indicators (Annual Income, Inhand Salary, Outstanding Debt)\n",
        "\n",
        "Credit behavior (Credit Utilization Ratio, Credit History Age, Number of Credit Cards, Loans)\n",
        "\n",
        "Payment behavior (Delayed Payments, Payment of Minimum Amount)\n",
        "\n",
        "Monthly EMI and Investment habits"
      ],
      "metadata": {
        "id": "gfoNAAC-nUe_"
      }
    },
    {
      "cell_type": "markdown",
      "source": [
        "## ***2. Understanding Your Variables***"
      ],
      "metadata": {
        "id": "nA9Y7ga8ng1Z"
      }
    },
    {
      "cell_type": "code",
      "source": [
        "# Dataset Columns\n",
        "df.columns"
      ],
      "metadata": {
        "id": "j7xfkqrt5Ag5"
      },
      "execution_count": null,
      "outputs": []
    },
    {
      "cell_type": "code",
      "source": [
        "# Dataset Describe\n",
        "df.describe()"
      ],
      "metadata": {
        "id": "DnOaZdaE5Q5t"
      },
      "execution_count": null,
      "outputs": []
    },
    {
      "cell_type": "markdown",
      "source": [
        "### Variables Description"
      ],
      "metadata": {
        "id": "PBTbrJXOngz2"
      }
    },
    {
      "cell_type": "markdown",
      "source": [
        "The dataset includes a diverse set of variables grouped into Identification, Demographic, Financial, Credit Behavior, and Credit History categories, which together provide a comprehensive view of a customer’s financial standing. Below is a structured explanation:\n",
        "\n",
        "🔹 1. Identification Variables\n",
        "ID: A unique identifier for each record.\n",
        "\n",
        "Customer_ID: A unique identifier assigned to each customer.\n",
        "\n",
        "Name: The full name of the customer.\n",
        "\n",
        "SSN: The Social Security Number, used for uniquely identifying individuals.\n",
        "\n",
        "Month: Denotes the specific month of the record.\n",
        "\n",
        "🔹 2. Demographic Variables\n",
        "Age: The age of the customer, useful for age-group analysis.\n",
        "\n",
        "Occupation: The profession or job category of the customer.\n",
        "\n",
        "🔹 3. Financial Variables\n",
        "Annual_Income: Total annual income of the individual.\n",
        "\n",
        "Monthly_Inhand_Salary: Actual salary received by the individual each month after deductions.\n",
        "\n",
        "Outstanding_Debt: The amount of unpaid loans or balances held by the individual.\n",
        "\n",
        "Total_EMI_per_month: Total Equated Monthly Installments paid towards loans each month.\n",
        "\n",
        "Amount_invested_monthly: The monthly contribution made by the individual toward investments.\n",
        "\n",
        "🔹 4. Banking and Credit Product Variables\n",
        "Num_Bank_Accounts: Total number of bank accounts held by the customer.\n",
        "\n",
        "Num_Credit_Card: Number of credit cards the individual possesses.\n",
        "\n",
        "Interest_Rate: The rate of interest applicable to the customer's credit account(s).\n",
        "\n",
        "Num_of_Loan: Total number of loans taken.\n",
        "\n",
        "Type_of_Loan: Categories or types of loans held by the customer (e.g., home, auto, education).\n",
        "\n",
        "🔹 5. Credit Behavior Variables\n",
        "Delay_from_due_date: The average number of days payments were delayed beyond their due dates.\n",
        "\n",
        "Num_of_Delayed_Payment: Count of how many times payments were delayed.\n",
        "\n",
        "Payment_of_Min_Amount: Indicates whether the customer pays the minimum required amount on credit dues.\n",
        "\n",
        "Changed_Credit_Card: Percentage change in credit card limit over time, reflecting financial flexibility.\n",
        "\n",
        "Num_Credit_Inquiries: Number of recent credit inquiries, signaling demand for new credit.\n",
        "\n",
        "🔹 6. Credit History and Profile Quality Variables\n",
        "Credit_Mix: A qualitative description (e.g., Good, Standard, Bad) indicating the variety of credit types held.\n",
        "\n",
        "Credit_Utilization_Ratio: Ratio of the credit amount used to the total credit limit, a key indicator of responsible usage.\n",
        "\n",
        "Credit_History_Age: Duration (in years and months) for which the customer has had credit accounts.\n",
        "\n"
      ],
      "metadata": {
        "id": "aJV4KIxSnxay"
      }
    },
    {
      "cell_type": "markdown",
      "source": [
        "### Check Unique Values for each variable."
      ],
      "metadata": {
        "id": "u3PMJOP6ngxN"
      }
    },
    {
      "cell_type": "code",
      "source": [
        "# Check Unique Values for each variable.\n",
        "df.nunique()"
      ],
      "metadata": {
        "id": "zms12Yq5n-jE"
      },
      "execution_count": null,
      "outputs": []
    },
    {
      "cell_type": "markdown",
      "source": [
        "## 3. ***Data Wrangling***"
      ],
      "metadata": {
        "id": "dauF4eBmngu3"
      }
    },
    {
      "cell_type": "markdown",
      "source": [
        "### Data Wrangling Code"
      ],
      "metadata": {
        "id": "bKJF3rekwFvQ"
      }
    },
    {
      "cell_type": "code",
      "source": [
        "# Write your code to make your dataset analysis ready.\n",
        "# --- Data Cleaning: Handle Missing Values and Outliers ---\n",
        "# Convert relevant columns to numeric\n",
        "numeric_cols = ['Annual_Income', 'Credit_Utilization_Ratio', 'Num_of_Loan',\n",
        "                'Num_of_Delayed_Payment', 'Credit_History_Age', 'Age', 'Month']\n",
        "for col in numeric_cols:\n",
        "    df[col] = pd.to_numeric(df[col], errors='coerce')"
      ],
      "metadata": {
        "id": "wk-9a2fpoLcV"
      },
      "execution_count": null,
      "outputs": []
    },
    {
      "cell_type": "code",
      "source": [
        "# Handle missing values\n",
        "df = df.dropna(subset=['Credit_Score'])  # Drop rows with missing Credit_Score\n",
        "for col in numeric_cols:\n",
        "    df[col] = df[col].fillna(df[col].median())  # Fill numeric columns with median\n",
        "df['Month'] = df['Month'].fillna(1)  # Default Month to 1\n",
        "df['Credit_Score'] = df['Credit_Score'].str.strip()  # Clean Credit_Score values"
      ],
      "metadata": {
        "id": "k3gH9x_ZxcOy"
      },
      "execution_count": null,
      "outputs": []
    },
    {
      "cell_type": "code",
      "source": [
        "# Handle outliers using IQR method\n",
        "def cap_outliers(series):\n",
        "    Q1 = series.quantile(0.25)\n",
        "    Q3 = series.quantile(0.75)\n",
        "    IQR = Q3 - Q1\n",
        "    lower_bound = Q1 - 1.5 * IQR\n",
        "    upper_bound = Q3 + 1.5 * IQR\n",
        "    return series.clip(lower=lower_bound, upper=upper_bound)\n",
        "\n",
        "for col in numeric_cols:\n",
        "    df[col] = cap_outliers(df[col])\n",
        "\n",
        "# Filter out invalid ages (e.g., Age < 18 or Age > 100)\n",
        "df = df[(df['Age'] >= 18) & (df['Age'] <= 100)]"
      ],
      "metadata": {
        "id": "Z97Pzc0wxmFk"
      },
      "execution_count": null,
      "outputs": []
    },
    {
      "cell_type": "markdown",
      "source": [
        "### What all manipulations have you done and insights you found?"
      ],
      "metadata": {
        "id": "MSa1f5Uengrz"
      }
    },
    {
      "cell_type": "markdown",
      "source": [
        "**1. Data Type Correction**\n",
        "\n",
        "**Objective:** Ensure columns are in the correct format for analysis.\n",
        "\n",
        "\n",
        "**Steps:**\n",
        "Converted numeric columns **(Annual_Income, Credit_Utilization_Ratio, Num_of_Loan, Num_of_Delayed_Payment, Credit_History_Age, Age, Month**) to numeric using** pd.to_numeric(errors='coerce')**, which handles non-numeric values by converting them to NaN.\n",
        "\n",
        "Stripped whitespace from **Credit_Score** using **str.strip()** to ensure consistency in categorical values.\n",
        "\n",
        "**2. Handling Missing Values**\n",
        "\n",
        "**Objective:** Address missing data to prevent bias in analysis.\n",
        "\n",
        "\n",
        "**Steps:**\n",
        "\n",
        "Dropped rows where Credit_Score was missing, as it’s the target variable and critical for analysis.\n",
        "\n",
        "Imputed missing values in numeric columns with their respective medians (e.g., Annual_Income, Credit_Utilization_Ratio) to minimize the impact of outliers on the imputation process.\n",
        "\n",
        "Assigned a default value of 1 to missing Month entries, assuming the first month of the 8-month period.\n",
        "\n",
        "Verified that no critical missing values remained in key columns after cleaning.\n",
        "\n",
        "**3. Handling Outliers**\n",
        "\n",
        "**Objective:** Mitigate the impact of extreme values on analysis.\n",
        "\n",
        "**Steps:**\n",
        "\n",
        "Used the Interquartile Range (IQR) method to cap outliers in numeric columns:\n",
        "Calculated Q1 (25th percentile), Q3 (75th percentile), and IQR = Q3 - Q1.\n",
        "Capped values below Q1 - 1.5IQR or above Q3 + 1.5IQR to their respective bounds.\n",
        "Applied to columns: Annual_Income, Credit_Utilization_Ratio, Num_of_Loan, Num_of_Delayed_Payment, Age.\n",
        "\n",
        "Filtered out invalid ages by retaining only rows where Age was between 18 and 100, removing unrealistic entries."
      ],
      "metadata": {
        "id": "LbyXE7I1olp8"
      }
    },
    {
      "cell_type": "markdown",
      "source": [
        "## ***4. Data Vizualization, Storytelling & Experimenting with charts : Understand the relationships between variables***"
      ],
      "metadata": {
        "id": "GF8Ens_Soomf"
      }
    },
    {
      "cell_type": "markdown",
      "source": [
        "#### Chart - 1  Credit Score Distribution by Age Group\n"
      ],
      "metadata": {
        "id": "0wOQAZs5pc--"
      }
    },
    {
      "cell_type": "code",
      "source": [
        "# Chart - 1 visualization code\n",
        "# Bin ages into groups\n",
        "age_bins = [18, 25, 35, 45, 55, 100]\n",
        "age_labels = ['18-25', '26-35', '36-45', '46-55', '56+']\n",
        "df['Age_Group'] = pd.cut(df['Age'], bins=age_bins, labels=age_labels, include_lowest=True)\n",
        "\n",
        "plt.figure(figsize=(10, 6))\n",
        "sns.countplot(data=df, x='Age_Group', hue='Credit_Score',\n",
        "              palette={'Good': '#10B981', 'Standard': '#3B82F6', 'Poor': '#EF4444'})\n",
        "plt.title('Credit Score Distribution by Age Group')\n",
        "plt.xlabel('Age Group')\n",
        "plt.ylabel('Count')\n",
        "plt.legend(title='Credit Score')\n",
        "plt.tight_layout()\n",
        "plt.show()"
      ],
      "metadata": {
        "id": "7v_ESjsspbW7"
      },
      "execution_count": null,
      "outputs": []
    },
    {
      "cell_type": "markdown",
      "source": [
        "##### 1. Why did you pick the specific chart?"
      ],
      "metadata": {
        "id": "K5QZ13OEpz2H"
      }
    },
    {
      "cell_type": "markdown",
      "source": [
        "Shows credit score distribution across age groups."
      ],
      "metadata": {
        "id": "XESiWehPqBRc"
      }
    },
    {
      "cell_type": "markdown",
      "source": [
        "##### 2. What is/are the insight(s) found from the chart?"
      ],
      "metadata": {
        "id": "lQ7QKXXCp7Bj"
      }
    },
    {
      "cell_type": "markdown",
      "source": [
        "**Finding:**\n",
        "\n",
        " Younger individuals (18-25) have a higher proportion of Poor credit scores compared to older groups. Older age groups (46-55, 56+) show a higher proportion of Good scores.\n",
        "\n",
        "**Interpretation:**\n",
        "\n",
        "Younger customers likely have limited credit history or higher credit utilization, leading to poorer scores. Older customers benefit from longer credit histories and financial stability, making them more likely to have Good scores."
      ],
      "metadata": {
        "id": "C_j1G7yiqdRP"
      }
    },
    {
      "cell_type": "markdown",
      "source": [
        " Chart - 2\n",
        " Annual Income vs Credit Score"
      ],
      "metadata": {
        "id": "KSlN3yHqYklG"
      }
    },
    {
      "cell_type": "code",
      "source": [
        "# Chart - 2 visualization code\n",
        "# Sample 200 points for scatter plot\n",
        "sample_df = df.sample(200, random_state=42)\n",
        "plt.figure(figsize=(10, 6))\n",
        "sns.scatterplot(data=sample_df, x='Annual_Income', y='Credit_Score', hue='Credit_Score',\n",
        "                palette={'Good': '#10B981', 'Standard': '#3B82F6', 'Poor': '#EF4444'}, alpha=0.6)\n",
        "plt.title('Annual Income vs Credit Score')\n",
        "plt.xlabel('Annual Income')\n",
        "plt.ylabel('Credit Score')\n",
        "plt.legend(title='Credit Score')\n",
        "plt.tight_layout()\n",
        "plt.show()"
      ],
      "metadata": {
        "id": "R4YgtaqtYklH"
      },
      "execution_count": null,
      "outputs": []
    },
    {
      "cell_type": "markdown",
      "source": [
        "##### 1. What is/are the insight(s) found from the chart?"
      ],
      "metadata": {
        "id": "ijmpgYnKYklI"
      }
    },
    {
      "cell_type": "markdown",
      "source": [
        "**Finding:**\n",
        "\n",
        " Higher annual incomes (above 100,000) are strongly associated with Good credit scores, indicating a positive correlation.\n",
        "\n",
        "**Interpretation:**\n",
        "\n",
        " Customers with higher incomes likely have better debt management capabilities, reducing their risk of poor credit scores. This suggests that income is a reliable predictor of creditworthiness."
      ],
      "metadata": {
        "id": "PSx9atu2YklI"
      }
    },
    {
      "cell_type": "markdown",
      "source": [
        "#### Chart - 3  Credit Utilization and Number of Loans by Credit Score (Line Chart)"
      ],
      "metadata": {
        "id": "EM7whBJCYoAo"
      }
    },
    {
      "cell_type": "code",
      "source": [
        "# Chart - 3 visualization code\n",
        "avg_data = df.groupby('Credit_Score')[['Credit_Utilization_Ratio', 'Num_of_Loan']].mean().reset_index()\n",
        "\n",
        "plt.figure(figsize=(10, 6))\n",
        "plt.plot(avg_data['Credit_Score'], avg_data['Credit_Utilization_Ratio'], label='Avg Credit Utilization (%)',\n",
        "         color='#10B981', marker='o')\n",
        "plt.plot(avg_data['Credit_Score'], avg_data['Num_of_Loan'], label='Avg Number of Loans',\n",
        "         color='#EF4444', marker='o')\n",
        "plt.title('Credit Utilization and Number of Loans by Credit Score')\n",
        "plt.xlabel('Credit Score')\n",
        "plt.ylabel('Average Value')\n",
        "plt.legend()\n",
        "plt.grid(True)\n",
        "plt.tight_layout()\n",
        "plt.show()"
      ],
      "metadata": {
        "id": "t6GMdE67YoAp"
      },
      "execution_count": null,
      "outputs": []
    },
    {
      "cell_type": "markdown",
      "source": [
        "##### 1. What is/are the insight(s) found from the chart?"
      ],
      "metadata": {
        "id": "85gYPyotYoAp"
      }
    },
    {
      "cell_type": "markdown",
      "source": [
        "**Finding:**\n",
        "\n",
        " Credit score distributions remain stable across the 8-month period, with no significant seasonal patterns.\n",
        "\n",
        "**Interpretation:**\n",
        "\n",
        " Credit scores are likely influenced more by individual financial behavior than temporal factors, allowing Paisabazaar to implement consistent risk management strategies throughout the year."
      ],
      "metadata": {
        "id": "HYeHFka8gAZb"
      }
    },
    {
      "cell_type": "code",
      "source": [],
      "metadata": {
        "id": "QhSXXuS6f_uv"
      },
      "execution_count": null,
      "outputs": []
    },
    {
      "cell_type": "markdown",
      "source": [
        "#### Chart - 4 Delayed Payments vs. Credit Score (Scatter Plot)"
      ],
      "metadata": {
        "id": "4Of9eVA-YrdM"
      }
    },
    {
      "cell_type": "code",
      "source": [
        "# Chart - 4 visualization code\n",
        "plt.figure(figsize=(10, 6))\n",
        "sns.scatterplot(data=sample_df, x='Num_of_Delayed_Payment', y='Credit_Score', hue='Credit_Score',\n",
        "                palette={'Good': '#10B981', 'Standard': '#3B82F6', 'Poor': '#EF4444'}, alpha=0.6)\n",
        "plt.title('Delayed Payments vs Credit Score')\n",
        "plt.xlabel('Number of Delayed Payments')\n",
        "plt.ylabel('Credit Score')\n",
        "plt.legend(title='Credit Score')\n",
        "plt.tight_layout()\n",
        "plt.show()"
      ],
      "metadata": {
        "id": "irlUoxc8YrdO"
      },
      "execution_count": null,
      "outputs": []
    },
    {
      "cell_type": "markdown",
      "source": [
        "##### 1. What is/are the insight(s) found from the chart?"
      ],
      "metadata": {
        "id": "F6T5p64dYrdO"
      }
    },
    {
      "cell_type": "markdown",
      "source": [
        "**Finding:**\n",
        "\n",
        " A higher number of delayed payments (e.g., >10) strongly correlates with Poor credit scores.\n",
        "\n",
        "**Interpretation:**\n",
        "\n",
        " Timely payments are critical for maintaining good credit, and frequent delays significantly increase the likelihood of a Poor score, making payment behavior a key risk factor."
      ],
      "metadata": {
        "id": "Xx8WAJvtYrdO"
      }
    },
    {
      "cell_type": "markdown",
      "source": [
        "#### Chart - 5 Credit Score Trends by Month"
      ],
      "metadata": {
        "id": "bamQiAODYuh1"
      }
    },
    {
      "cell_type": "code",
      "source": [
        "# Chart - 5 visualization code\n",
        "monthly_data = df.groupby(['Month', 'Credit_Score']).size().unstack(fill_value=0)\n",
        "monthly_data = monthly_data.div(monthly_data.sum(axis=1), axis=0) * 100  # Convert to percentage\n",
        "\n",
        "plt.figure(figsize=(10, 6))\n",
        "for score in ['Good', 'Standard', 'Poor']:\n",
        "    plt.plot(monthly_data.index, monthly_data[score], label=score, marker='o',\n",
        "             color={'Good': '#10B981', 'Standard': '#3B82F6', 'Poor': '#EF4444'}[score])\n",
        "plt.title('Credit Score Trends by Month')\n",
        "plt.xlabel('Month')\n",
        "plt.ylabel('Percentage (%)')\n",
        "plt.legend(title='Credit Score')\n",
        "plt.grid(True)\n",
        "plt.tight_layout()\n",
        "plt.show()"
      ],
      "metadata": {
        "id": "TIJwrbroYuh3"
      },
      "execution_count": null,
      "outputs": []
    },
    {
      "cell_type": "markdown",
      "source": [
        "##### 1. What is/are the insight(s) found from the chart?"
      ],
      "metadata": {
        "id": "GwzvFGzlYuh3"
      }
    },
    {
      "cell_type": "markdown",
      "source": [
        "**Finding:**\n",
        " Credit score distributions remain stable across the 8-month period, with no significant seasonal patterns.\n",
        "\n",
        "**Interpretation:**\n",
        "\n",
        " Credit scores are likely influenced more by individual financial behavior than temporal factors, allowing Paisabazaar to implement consistent risk management strategies throughout the year."
      ],
      "metadata": {
        "id": "uyqkiB8YYuh3"
      }
    },
    {
      "cell_type": "markdown",
      "source": [
        "#### Chart - 6 Intresting fact"
      ],
      "metadata": {
        "id": "OH-pJp9IphqM"
      }
    },
    {
      "cell_type": "code",
      "source": [
        "# Chart - 6 visualization code\n",
        "young_high_util = df[(df['Age_Group'] == '18-25') & (df['Credit_Utilization_Ratio'] > 35) & (df['Num_of_Delayed_Payment'] == 0)]\n",
        "good_count = len(young_high_util[young_high_util['Credit_Score'] == 'Good'])\n",
        "total_count = len(young_high_util)\n",
        "print(f\"\\nInteresting Fact: {good_count} out of {total_count} individuals aged 18-25 with high credit utilization (>35%) have Good scores if they have no delayed payments. This suggests timely payments can offset high utilization for younger demographics.\")"
      ],
      "metadata": {
        "id": "kuRf4wtuphqN"
      },
      "execution_count": null,
      "outputs": []
    },
    {
      "cell_type": "markdown",
      "source": [
        "#### Chart - 14 - Correlation Heatmap"
      ],
      "metadata": {
        "id": "NC_X3p0fY2L0"
      }
    },
    {
      "cell_type": "code",
      "source": [
        "# Correlation Heatmap visualization code\n",
        "# Encode Credit_Score for correlation (Good=2, Standard=1, Poor=0)\n",
        "df['Credit_Score_Encoded'] = df['Credit_Score'].map({'Good': 2, 'Standard': 1, 'Poor': 0})\n",
        "correlation_matrix = df[['Credit_Score_Encoded', 'Annual_Income', 'Credit_Utilization_Ratio',\n",
        "                         'Num_of_Loan', 'Num_of_Delayed_Payment', 'Age']].corr()\n",
        "print(\"\\nCorrelation Matrix:\\n\", correlation_matrix)\n",
        "\n",
        "plt.figure(figsize=(8, 6))\n",
        "sns.heatmap(correlation_matrix, annot=True, cmap='coolwarm', vmin=-1, vmax=1)\n",
        "plt.title('Correlation Heatmap')\n",
        "plt.tight_layout()\n",
        "plt.show()"
      ],
      "metadata": {
        "id": "xyC9zolEZNRQ"
      },
      "execution_count": null,
      "outputs": []
    },
    {
      "cell_type": "markdown",
      "source": [
        "##### 1. What is/are the insight(s) found from the chart?"
      ],
      "metadata": {
        "id": "YPEH6qLeZNRQ"
      }
    },
    {
      "cell_type": "markdown",
      "source": [
        "**Finding:**\n",
        "\n",
        " Credit_Utilization_Ratio and Num_of_Delayed_Payment have stronger negative correlations with Credit_Score compared to Num_of_Loan or Age.\n",
        "\n",
        "**Interpretation:**\n",
        "\n",
        " These two factors are the most predictive of poor credit outcomes and should be prioritized in risk assessment models."
      ],
      "metadata": {
        "id": "bfSqtnDqZNRR"
      }
    },
    {
      "cell_type": "markdown",
      "source": [
        "## **5. Solution to Business Objective**"
      ],
      "metadata": {
        "id": "JcMwzZxoAimU"
      }
    },
    {
      "cell_type": "markdown",
      "source": [
        "#### What do you suggest the client to achieve Business Objective ?\n",
        "Explain Briefly."
      ],
      "metadata": {
        "id": "8G2x9gOozGDZ"
      }
    },
    {
      "cell_type": "markdown",
      "source": [
        "**1. Strengthen Credit Risk Segmentation**\n",
        "\n",
        "**🔹 Use a scoring model that incorporates:**\n",
        "\n",
        "Credit Utilization Ratio (strongly linked to poor credit scores)\n",
        "\n",
        "Number of Delayed Payments\n",
        "\n",
        "Outstanding Debt\n",
        "\n",
        "Annual Income vs. EMI Burden\n",
        "\n",
        "**🔹 Segment customers into:**\n",
        "\n",
        "Low Risk: Low utilization, high income, timely payments\n",
        "\n",
        "Moderate Risk: Occasional delays, balanced utilization\n",
        "\n",
        "High Risk: Frequent delays, high credit usage, low income\n",
        "\n",
        "➡ **Impact:** Allows for better loan decisions and customized risk-based pricing.\n",
        "\n",
        "\n",
        "**2. Incentivize Better Credit Behavior**\n",
        "\n",
        "\n",
        "**🔹 Promote financial literacy programs or credit improvement plans for users with:**\n",
        "\n",
        "High delays from due date\n",
        "\n",
        "High EMI burden\n",
        "\n",
        "Low payment of minimum amount\n",
        "\n",
        "**➡ Impact:** Helps improve user credit scores over time and builds customer trust.\n",
        "\n",
        "**3. Personalize Financial Product Offers**\n",
        "\n",
        "**🔹 Use clusters or segments from the data to personalize:**\n",
        "\n",
        "Loan offers (e.g., pre-approved for low-risk)\n",
        "\n",
        "Credit card upgrades (e.g., based on utilization and inquiries)\n",
        "\n",
        "Investment recommendations (based on surplus income)\n",
        "\n",
        "**➡ Impact:** Higher product relevance and conversion rate.\n",
        "\n",
        "**4. Use Predictive Modeling for Early Warning**\n",
        "\n",
        "**🔹 Build a credit score classification model using the cleaned dataset with:**\n",
        "Features like Num_of_Delayed_Payment, Credit_Utilization_Ratio, Outstanding_Debt, etc.\n",
        "\n",
        "🔹 Use this model to flag customers likely to shift from “Standard” to “Poor” credit categories in advance.\n",
        "\n",
        "**➡ Impact:** Reduces NPAs (non-performing assets) and improves credit portfolio health.\n",
        "\n",
        "**5. Monitor Monthly Trends and Anomalies**\n",
        "\n",
        "**🔹 Leverage the Month field to identify seasonal dips in credit score:**\n",
        "\n",
        "Possibly linked to festive overspending or year-end loan accumulation.\n",
        "\n",
        "**➡ Impact:** Enables time-sensitive interventions like reminders or repayment restructuring.\n",
        "\n",
        "**6. Encourage Responsible Credit Card Usage**\n",
        "\n",
        "🔹 Insights show that multiple cards don’t always mean poor scores, if utilization is low.\n",
        "\n",
        "🔹 Offer credit line adjustments or coaching on usage optimization.\n",
        "\n",
        "**➡ Impact:** Reduces default probability while retaining card customers.\n",
        "\n"
      ],
      "metadata": {
        "id": "pASKb0qOza21"
      }
    },
    {
      "cell_type": "markdown",
      "source": [
        "# **Conclusion**"
      ],
      "metadata": {
        "id": "gCX9965dhzqZ"
      }
    },
    {
      "cell_type": "markdown",
      "source": [
        "This Exploratory Data Analysis (EDA) project provided critical insights into the financial behavior of customers and the key drivers influencing their credit scores. By cleaning the data, handling missing values and outliers, and analyzing various financial indicators, we identified important patterns such as the impact of delayed payments, credit utilization ratio, and loan burden on creditworthiness.\n",
        "\n",
        "**The analysis revealed that:**\n",
        "\n",
        "**High credit utilization and frequent delayed payments** significantly correlate with lower credit scores.\n",
        "\n",
        "**Annual income, responsible EMI payments, and age** show a positive influence on creditworthiness.\n",
        "\n",
        "**Multiple credit cards**, when used responsibly, do not negatively impact credit scores, challenging common assumptions.\n",
        "\n",
        "**These insights enable Paisabazaar to:**\n",
        "\n",
        "Develop a **data-driven credit risk assessment model**\n",
        "\n",
        "**Personalize financial product offerings** based on customer profiles\n",
        "\n",
        "**Proactively identify and manage risk-prone customers**\n",
        "\n",
        "Improve **operational efficiency and decision-making**\n",
        "\n",
        "Overall, this project lays a solid foundation for implementing predictive analytics models and enhancing customer-centric credit strategies. With further model development and continuous data integration, Paisabazaar can strengthen its market position while minimizing financial risk.\n",
        "\n"
      ],
      "metadata": {
        "id": "Fjb1IsQkh3yE"
      }
    },
    {
      "cell_type": "markdown",
      "source": [
        "### ***Hurrah! You have successfully completed your EDA Capstone Project !!!***"
      ],
      "metadata": {
        "id": "gIfDvo9L0UH2"
      }
    }
  ]
}